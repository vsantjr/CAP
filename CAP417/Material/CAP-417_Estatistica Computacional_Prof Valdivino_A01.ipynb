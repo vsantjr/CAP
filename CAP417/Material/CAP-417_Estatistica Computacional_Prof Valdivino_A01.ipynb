{
 "cells": [
  {
   "cell_type": "markdown",
   "metadata": {
    "id": "kb5b-r3C4Krk"
   },
   "source": [
    "# **CAP-417: Estatística Computacional (Computational Statistics)**\n",
    "\n",
    "<img src=\"https://raw.githubusercontent.com/vsantjr/CAP/master/Images/thedice.jpg\" alt=\"Drawing\" width=\"350\"/>\n",
    "\n",
    "<br>\n",
    "\n",
    "# ***Probability***\n",
    "-----\n",
    "\n",
    "This notebook was developed by Prof. <a href=\"https://www.linkedin.com/in/valdivino-alexandre-de-santiago-j%C3%BAnior-103109206/?locale=en_US\">Valdivino Alexandre de Santiago Júnior</a> for the Computational Statistics CAP course at INPE.</a>\n",
    "\n",
    "<br>\n",
    "\n",
    "Most of this material was based on: R. E. Walpole, R. H. Myers, S. L. Myers, K. E. Ye. <a href=\"https://www.pearson.com/us/higher-education/product/Walpole-Probability-and-Statistics-for-Engineers-and-Scientists-9th-Edition/9780321629111.html\">Probability and Statistics for Engineers and Scientists, 9th Edition</a>. Pearson, 2012.\n",
    "\n",
    "<br>\n",
    "\n",
    "**Licence**: GNU GENERAL PUBLIC LICENSE, Version 3 (GPLv3)\n",
    "\n"
   ]
  },
  {
   "cell_type": "markdown",
   "metadata": {
    "id": "wnTeLfOBe8rj"
   },
   "source": [
    "## Introduction to Probability\n",
    "----\n",
    "\n",
    "When we talk **Probability**, we are wondering of how likely an event is to occur. The probability of an event is a number between 0 and 1. Number 0 indicates impossibility of the event to occur and number 1 indicates that the event is completely sure to happen.\n",
    "\n",
    "<br>\n",
    "\n",
    "Statisticians use the word experiment to describe any process that generates\n",
    "a set of data. A simple example of a statistical experiment is the tossing of a coin. In this experiment, there are only two possible outcomes, heads or tails.\n",
    "\n",
    "<br>\n",
    "\n",
    "The main goal is to obtain observations by repeating the experiment several times. In most cases, this is not deterministic and outcomes will depend on chance.\n"
   ]
  },
  {
   "cell_type": "code",
   "execution_count": 1,
   "metadata": {
    "colab": {
     "base_uri": "https://localhost:8080/"
    },
    "executionInfo": {
     "elapsed": 6,
     "status": "ok",
     "timestamp": 1649787685137,
     "user": {
      "displayName": "Valdivino Santiago",
      "userId": "09844046845975035783"
     },
     "user_tz": 180
    },
    "id": "78WfpW4-k1F4",
    "outputId": "9281c5d9-8473-4c26-e0a8-e03a740a4781"
   },
   "outputs": [
    {
     "name": "stdout",
     "output_type": "stream",
     "text": [
      "Number in iteration 0 is: 5\n",
      "Number in iteration 1 is: 19\n",
      "Number in iteration 2 is: 11\n",
      "Number in iteration 3 is: 26\n",
      "Number in iteration 4 is: 24\n",
      "Number in iteration 5 is: 30\n",
      "Number in iteration 6 is: 3\n",
      "Number in iteration 7 is: 4\n",
      "Number in iteration 8 is: 30\n",
      "Number in iteration 9 is: 21\n"
     ]
    }
   ],
   "source": [
    "import random\n",
    "for i in range(10):\n",
    "  n = random.randint(1,30) # Interval: [low, high]\n",
    "  print('Number in iteration {} is: {}'.format(i,n))  "
   ]
  },
  {
   "cell_type": "markdown",
   "metadata": {
    "id": "OMQzxPJlWETD"
   },
   "source": [
    "## Sample Space \n",
    "----\n",
    "\n",
    "The set of all possible outcomes of a statistical experiment is called the **sample space** and we denote it by $S$.\n",
    "\n",
    "\n",
    "<br>\n",
    "\n",
    "Each outcome in a sample space is called an **element** of the\n",
    "sample space, or simply a sample point. Thus, the sample space $S$, of possible outcomes when a coin is flipped, may be written\n",
    "\n",
    "$$\n",
    "S = \\{H, T\\},\n",
    "$$\n",
    "\n",
    "where $H$ and $T$ correspond to heads and tails, respectively.\n",
    "\n",
    "<br>\n",
    "\n",
    "Ex: Suppose that three items are selected at random from a manufacturing process. Each item is inspected and classified as defective, $D$, or nondefective, $N$. What are the elements of the sample space, $S$? \n",
    "\n",
    "R: Below, tree diagram.\n",
    "\n",
    "<br>\n",
    "\n",
    "<img src=\"https://raw.githubusercontent.com/vsantjr/CAP/master/Images/treediag.png\" alt=\"Drawing\" width=\"400\"/>\n",
    "\n"
   ]
  },
  {
   "cell_type": "markdown",
   "metadata": {
    "id": "KycNjZ9spmwb"
   },
   "source": [
    "## Events\n",
    "----\n",
    "\n",
    "For any given experiment, we may be interested in the occurrence of certain **events** rather than in the occurrence of a specific element in the sample space.\n",
    "\n",
    "<br>\n",
    "\n",
    "Each event is assigned a collection of sample points which constitute a subset\n",
    "of the sample space. Hence, An **event** is a subset of a sample space.\n",
    "\n",
    "<br>\n",
    "\n",
    "Ex: Let us consider the previous example of the manufacturing process. What is the event $A_1$ which considers that the number of defective items is greater than 1?\n",
    "\n",
    "R: $A_1 = \\{DDD, DDN, DND, NDD\\}$\n",
    "\n"
   ]
  },
  {
   "cell_type": "code",
   "execution_count": 2,
   "metadata": {
    "colab": {
     "base_uri": "https://localhost:8080/"
    },
    "executionInfo": {
     "elapsed": 283,
     "status": "ok",
     "timestamp": 1649787685418,
     "user": {
      "displayName": "Valdivino Santiago",
      "userId": "09844046845975035783"
     },
     "user_tz": 180
    },
    "id": "mpPdasvwWES4",
    "outputId": "b4f5a8ed-15cf-4cfe-8a07-11e731d7c5f1"
   },
   "outputs": [
    {
     "name": "stdout",
     "output_type": "stream",
     "text": [
      "Possible element of A1: [0, 1, 1]\n",
      "Element is indeed in A1\n"
     ]
    }
   ],
   "source": [
    "elem_a1 = []\n",
    "for i in range(3):\n",
    "  elem_a1.append(random.randint(0,1)) # 0 = N; 1 = D \n",
    "\n",
    "print('Possible element of A1:', elem_a1)\n",
    "\n",
    "if elem_a1.count(1) > 1:\n",
    "  print('Element is indeed in A1')\n",
    "else:\n",
    "  print('Element is NOT in A1')    "
   ]
  },
  {
   "cell_type": "markdown",
   "metadata": {
    "id": "l2SLBUdWuD99"
   },
   "source": [
    "## Intersection, Mutually Exclusive, Union of Events\n",
    "----\n",
    "\n",
    "The **intersection** of two events $A$ and $B$, denoted by the $A \\cap B$, is the\n",
    "event containing all elements that are common to $A$ and $B$.\n",
    "\n",
    "<br>\n",
    "\n",
    "Two events $A$ and $B$ are **mutually exclusive**, or disjoint, if $A \\cap B = \\emptyset$. \n",
    "\n",
    "<br>\n",
    "\n",
    "The **union** of the two events $A$ and $B$, denoted by the symbol $A \\cup B$, is the event containing all the elements that belong to $A$ or $B$ or both.\n",
    "\n",
    "<br>\n",
    "\n",
    "Question: Let $A = \\{a \\quad | \\quad 5 \\leq a \\leq 12 \\}$ and $B = \\{b \\quad | \\quad 1 \\leq b \\leq 8 \\}$. Calculate:\n",
    "\n",
    "\n",
    "\n",
    "1.   $A \\cap B$;\n",
    "2.   $A \\cup B$;\n",
    "3.   What change can de done so that $A$ and $B$ become disjoint?\n",
    "\n",
    "\n"
   ]
  },
  {
   "cell_type": "markdown",
   "metadata": {
    "id": "RZ4Y2_aECvAl"
   },
   "source": [
    "## Probability of an Event\n",
    "----\n",
    "\n",
    "The probability of an event $A$ is the sum of all the probabilities assigned to\n",
    "the sample points (elements) in $A$. This sum is called the probability of $A$ and is denoted by $P(A)$.\n",
    "\n",
    "<br>\n",
    "\n",
    "<img src=\"https://raw.githubusercontent.com/vsantjr/CAP/master/Images/probdefin.png\" alt=\"Drawing\" width=\"600\"/>\n",
    "\n",
    "<br>\n",
    "\n",
    "Rule:\n",
    "\n",
    "<img src=\"https://raw.githubusercontent.com/vsantjr/CAP/master/Images/rule2.3.png\" alt=\"Drawing\" width=\"600\"/>\n",
    "\n",
    "<br>\n",
    "\n",
    "Ex: In a flight, there are 100 brazilians, 90 americans, 38 spaniards, and 73 brits in the economic class. If a person is randomly selected to upgrade to the business class, find the probability that the person chosen is (a) a brazilian, (b) an american or brit, and (c) a spaniard or brazilian. \n"
   ]
  },
  {
   "cell_type": "code",
   "execution_count": 3,
   "metadata": {
    "colab": {
     "base_uri": "https://localhost:8080/"
    },
    "executionInfo": {
     "elapsed": 603,
     "status": "ok",
     "timestamp": 1649787686018,
     "user": {
      "displayName": "Valdivino Santiago",
      "userId": "09844046845975035783"
     },
     "user_tz": 180
    },
    "id": "4IyE9xkQah1Z",
    "outputId": "e00cf345-9dc5-459a-9be5-5ba473d84038"
   },
   "outputs": [
    {
     "name": "stdout",
     "output_type": "stream",
     "text": [
      "Persons: \n",
      "       total\n",
      "braz    100\n",
      "amer     90\n",
      "span     38\n",
      "brit     73\n",
      "\n",
      "All Passengers: 301\n",
      "\n",
      "Item a:  0.33222591362126247\n",
      "Item b:  0.5415282392026578\n",
      "Item c:  0.4584717607973422\n"
     ]
    }
   ],
   "source": [
    "import pandas as pd\n",
    "\n",
    "data = {'total': [100, 90, 38, 73]}\n",
    "row_labels = ['braz', 'amer', 'span', 'brit']\n",
    "\n",
    "persons = pd.DataFrame(data=data, index=row_labels)\n",
    "\n",
    "print('Persons: \\n', persons)\n",
    "\n",
    "all_persons = persons['total'].sum()\n",
    "\n",
    "print('\\nAll Passengers:', all_persons)\n",
    "\n",
    "print('\\nItem a: ', persons.loc['braz'].at['total'] / all_persons)\n",
    "print('Item b: ', (persons.loc['amer'].at['total'] + persons.loc['brit'].at['total']) / all_persons)\n",
    "print('Item c: ', (persons.loc['span'].at['total'] + persons.loc['braz'].at['total']) / all_persons)"
   ]
  },
  {
   "cell_type": "markdown",
   "metadata": {
    "id": "gEoFNq2PiIr_"
   },
   "source": [
    "Question: In the example above, is $P(S)=1$?"
   ]
  },
  {
   "cell_type": "markdown",
   "metadata": {
    "id": "pTOasOaPejMk"
   },
   "source": [
    "## Additive Rules\n",
    "----\n",
    "\n",
    "One of the main goal of rules is to simplify the computation of probabilities. Below we present some theorems and corollaries related to addition.\n",
    "\n",
    "<br>\n",
    "\n",
    "\n",
    "<img src=\"https://raw.githubusercontent.com/vsantjr/CAP/master/Images/adr1.png\" alt=\"Drawing\" width=\"600\"/>\n",
    "\n",
    "\n",
    "\n",
    "<br>\n",
    "\n",
    "<img src=\"https://raw.githubusercontent.com/vsantjr/CAP/master/Images/adr2.png\" alt=\"Drawing\" width=\"600\"/>\n",
    "\n",
    "<br>\n",
    "\n",
    "<img src=\"https://raw.githubusercontent.com/vsantjr/CAP/master/Images/adr3.png\" alt=\"Drawing\" width=\"600\"/>\n",
    "\n",
    "<br>\n",
    "\n",
    "<img src=\"https://raw.githubusercontent.com/vsantjr/CAP/master/Images/adr4.png\" alt=\"Drawing\" width=\"600\"/>\n",
    "\n",
    "<br>\n",
    "<br>\n",
    "\n",
    "**PS:** Note that $P(A \\cap B)$ is known as a **joint probability**, i.e. the probability of two simultaneous events occur. Alternate symbol is $P(A,B)$.\n",
    "\n",
    "<br>\n",
    "\n",
    "Ex: The probability that tomorrow will be a cold day in SJCampos is 0.5, the probability that it will be a rainy day is 0.65, and the probability that it will be both cold and rainy is 0.45. What is the probability that it will be neither cold nor rainy?\n",
    "\n",
    "R: $P(cold) = 0.5$, $P(rainy) = 0.65$, $P(cold \\cap rainy) = 0.45$. \n",
    "\n",
    "$P(cold \\cup rainy) = 0.5 + 0.65 - 0.45 = 0.7 $\n",
    "\n",
    "But, we want to the complementary event. Thus:\n",
    "\n",
    "$P((cold \\cup rainy)^c) = 1 - P(cold \\cup rainy) = 1 - 0.7 = 0.3$.\n",
    "\n"
   ]
  },
  {
   "cell_type": "markdown",
   "metadata": {
    "id": "_s9J_LxWoENj"
   },
   "source": [
    "## Conditional Probability\n",
    "----\n",
    "\n",
    "The probability of an event $B$ occurring when it is known that some event $A$\n",
    "has occurred is called a **conditional probability**. It is denoted by $P(B|A)$ and it usually means “the probability that $B$ occurs given that $A$ occurs”\n",
    "or simply “the probability of $B$, given $A$”.\n",
    "\n",
    "<br>\n",
    "\n",
    "<img src=\"https://raw.githubusercontent.com/vsantjr/CAP/master/Images/condprob.png\" alt=\"Drawing\" width=\"600\"/>\n",
    "\n",
    "<br>\n",
    "\n",
    "Ex: In a flight, there are 100 brazilians (55 men and 45 women), 90 americans (30 men and 60 women), 38 spaniards (all men), and 73 brits (12 men and 61 women) in the economic class. If a person is randomly selected to upgrade to the business class, find the probability that the person chosen is (a) a brazilian given it is a man, (b) an american given it is a woman, and (c) a man given it is a spaniard. "
   ]
  },
  {
   "cell_type": "code",
   "execution_count": 4,
   "metadata": {
    "colab": {
     "base_uri": "https://localhost:8080/"
    },
    "executionInfo": {
     "elapsed": 6,
     "status": "ok",
     "timestamp": 1649787686019,
     "user": {
      "displayName": "Valdivino Santiago",
      "userId": "09844046845975035783"
     },
     "user_tz": 180
    },
    "id": "-7UM97NYWETH",
    "outputId": "3717b108-a28b-4e3a-9f1d-8ebcdc61de3c"
   },
   "outputs": [
    {
     "name": "stdout",
     "output_type": "stream",
     "text": [
      "Persons: \n",
      "       man  woman  total\n",
      "braz   55     45    100\n",
      "amer   30     60     90\n",
      "span   38      0     38\n",
      "brit   12     61     73\n",
      "\n",
      "All Passengers: 301\n",
      "\n",
      "Item a: P(braz|man):  0.40740740740740744\n",
      "\n",
      "Item b: P(amer|woman):  0.3614457831325302\n",
      "\n",
      "Item c: P(man|span):  1.0\n"
     ]
    }
   ],
   "source": [
    "data = {'man': [55, 30, 38, 12],\n",
    "        'woman': [45, 60, 0, 61],\n",
    "        'total': [100, 90, 38, 73]}\n",
    "row_labels = ['braz', 'amer', 'span', 'brit']\n",
    "\n",
    "persons = pd.DataFrame(data=data, index=row_labels)\n",
    "\n",
    "print('Persons: \\n', persons)\n",
    "\n",
    "all_persons = persons['total'].sum()\n",
    "\n",
    "print('\\nAll Passengers:', all_persons)\n",
    "\n",
    "# Item a: We want P(braz|man).\n",
    "p_man_and_braz = persons.loc['braz'].at['man'] / all_persons\n",
    "p_man = persons['man'].sum() / all_persons\n",
    "print('\\nItem a: P(braz|man): ', p_man_and_braz / p_man)\n",
    "\n",
    "# Item b: We want P(amer|woman).\n",
    "p_woman_and_amer = persons.loc['amer'].at['woman'] / all_persons\n",
    "p_woman = persons['woman'].sum() / all_persons\n",
    "print('\\nItem b: P(amer|woman): ', p_woman_and_amer / p_woman)\n",
    "\n",
    "# Item c: We want P(man|span).\n",
    "p_span_and_man = persons.loc['span'].at['man'] / all_persons\n",
    "p_span = persons.loc['span'].at['total'] / all_persons\n",
    "print('\\nItem c: P(man|span): ', p_span_and_man / p_span)\n"
   ]
  },
  {
   "cell_type": "markdown",
   "metadata": {
    "id": "ZCEJCqJslRkh"
   },
   "source": [
    "## Independent Events and Multiplicative Rule\n",
    "----\n",
    "\n",
    "When the occurrence of an event had no impact on the odds of occurrence of another event, we say that both events are **independent**.\n",
    "\n",
    "<br>\n",
    "\n",
    "<img src=\"https://raw.githubusercontent.com/vsantjr/CAP/master/Images/indepevents.png\" alt=\"Drawing\" width=\"600\"/>\n",
    "\n",
    "<br>\n",
    "\n",
    "Based on the definition of conditional probability, if we multiply both sides of the equation by $P(A)$, we get the **multiplicative rule**.\n",
    "\n",
    "<br>\n",
    "\n",
    "<img src=\"https://raw.githubusercontent.com/vsantjr/CAP/master/Images/multrule.png\" alt=\"Drawing\" width=\"600\"/>\n",
    "\n",
    "<br>\n",
    "\n",
    "Since the events $A \\cap B$ and $B \\cap A$ are equivalent, we also have:\n",
    "\n",
    "$$\n",
    "P(A \\cap B) = P(B \\cap A) = P(B)P(A|B)\n",
    "$$\n",
    "\n",
    "<br>\n",
    "\n",
    "Hence, it does not matter which event is referred to as $A$ and which event\n",
    "is referred to as $B$. Just realise that even if the joint probability is symmetrical, in other words $P(A \\cap B) = P(B \\cap A)$, the conditional probability is not symmetrical, i.e. $P(A | B ) \\neq P(B | A)$.\n",
    "\n",
    "<br>\n",
    "\n",
    "Moreover, there is this another theorem.\n",
    "\n",
    "<img src=\"https://raw.githubusercontent.com/vsantjr/CAP/master/Images/multtheorem.png\" alt=\"Drawing\" width=\"600\"/>\n",
    "\n",
    "\n",
    "<br>\n",
    "\n",
    "Ex: A small transport goods delivery company has one truck and one drone in its fleet. The probability that the truck is available to deliver some goods on fridays is 0.7, and the probability that the drone is available on the same day is 0.9. In the event of some goods can be delivered either by the truck or by the drone, find the probability that both the truck and the drone will be available on fridays, assuming they operate independently.\n",
    "\n",
    "R: $P(truck) = 0.7$, $P(drone) = 0.9$. \n",
    "\n",
    "Hence, $P(truck \\cap drone) = 0.7 \\times 0.9 = 0.63$."
   ]
  },
  {
   "cell_type": "markdown",
   "metadata": {
    "id": "d4mqFLIZWETN"
   },
   "source": [
    "## Bayes' Rule (Theorem)\n",
    "----\n",
    "\n",
    "The Bayes' Rule (Theorem) is one of the most important concept in probability theory. It is the basis of Bayesian inference which specifies how one should update one’s beliefs upon observing data.\n",
    "\n",
    "<br>\n",
    "\n",
    "We have already shown how to calculate the conditional probability, i.e. $P(B|A)$, $P(A|B)$. But, there is another way to do that, based on the Bayes' Rule below.\n",
    "\n",
    "<br>\n",
    "\n",
    "<img src=\"https://raw.githubusercontent.com/vsantjr/CAP/master/Images/bayesrule.png\" alt=\"Drawing\" width=\"300\"/>\n",
    "\n",
    "<br>\n",
    "<br>\n",
    "\n",
    "In the formula above (see <a href=\"https://towardsdatascience.com/what-is-bayes-rule-bb6598d8a2fd\">D. Soni's TDS post</a>):\n",
    "\n",
    "\n",
    "\n",
    "1.   $P(A|B)$ is called the posterior, i.e. this is what we want to estimate;\n",
    "2.   $P(B|A)$ is called the likelihood. This is the probability of observing the new evidence, given our initial hypothesis;\n",
    "3.   $P(A)$ is called the prior. This is the probability of our hypothesis without any additional prior information;\n",
    "4.   $P(B)$ is the marginal likelihood. This is the total probability of observing the evidence.\n",
    "\n",
    "<br>\n",
    "\n",
    "<img src=\"https://raw.githubusercontent.com/vsantjr/CAP/master/Images/bayesrule2.png\" alt=\"Drawing\" width=\"300\"/>\n",
    "\n",
    "Source: <a href =\"https://towardsdatascience.com/bayes-rule-with-a-simple-and-practical-example-2bce3d0f4ad0\">T. Sarkar's TDS post</a>\n",
    "\n",
    "<br>\n",
    "\n",
    "Note that the Bayes' Rule concept is closely related to data science (or the other way arround).\n",
    "\n",
    "<img src=\"https://raw.githubusercontent.com/vsantjr/CAP/master/Images/baysrule3.png\" alt=\"Drawing\" width=\"350\"/>\n",
    "\n",
    "Source: <a href =\"https://towardsdatascience.com/bayes-rule-with-a-simple-and-practical-example-2bce3d0f4ad0\">T. Sarkar's TDS post</a>\n",
    "\n",
    "<br>\n",
    "<br>\n",
    "\n",
    "**PS:** The Bayes' Rule can be applied considering several events $A_i$ which constitute a partition of the sample space, $S$.\n",
    "\n",
    "<br>\n",
    "\n",
    "Ex: A new COVID test was evaluated with a group of people $5\\%$ of which are known to have been truly infected. The test diganosis is positive among 98% of those which are truly infected and $3\\%$ of those who are not indeed infected. What is the probability that someone testing positive for COVID under this new test is actually infected?\n",
    "\n",
    "R: Likelihood: $P(positive|infected) = 0.98$.\n",
    "\n",
    "Prior: $P(infected) = 0.05$. \n",
    "\n",
    "Marginal likelihood: $P(positive) = (0.98 \\times 0.05) + (0.03 \\times 0.95)$.\n",
    "\n",
    "Hence:\n",
    "\n",
    "$$\n",
    "P(infected|positive)=\\frac{P(positive|infected)P(infected)}{P(positive)} = \\frac{0.98 \\times 0.05}{(0.98 \\times 0.05) + (0.03 \\times 0.95)} = 0.632258\n",
    "$$\n",
    "\n",
    "\n",
    "\n",
    "\n",
    "\n",
    "\n",
    "\n"
   ]
  },
  {
   "cell_type": "markdown",
   "metadata": {
    "id": "-GCEJNM4WETQ"
   },
   "source": [
    "## Exercise\n",
    "----\n",
    "\n",
    "A regional telephone company operates three identical relay stations at different locations. During a one-year period, the number of malfunctions reported by each station and the causes are shown below.\n",
    "\n",
    "<br>\n",
    "\n",
    "<img src=\"https://raw.githubusercontent.com/vsantjr/CAP/master/Images/bayes2.png\" alt=\"Drawing\" width=\"550\"/>\n",
    "\n",
    "<br>\n",
    "\n",
    "Suppose that a malfunction was reported and it was found to be caused by other human errors. Answer below:\n",
    "\n",
    "1. What is the probability that it came from station $C$? What is the probability that it came from station $A$? Develop a simple program that accepts the table above as input and solve this item.\n",
    "2. Solve the same item above but now assume that \"caused by other human errors\" is three times higher in the case of $C$ and two times higher in the case of $A$. Update the table before calculating them. Your program must be able to accept changes in the input table.\n",
    "\n",
    "**Deadline**: 19 april 2023\n"
   ]
  }
 ],
 "metadata": {
  "colab": {
   "collapsed_sections": [],
   "name": "CAP-417_Estatistica Computacional_Prof Valdivino_A01.ipynb",
   "provenance": [
    {
     "file_id": "https://github.com/pytorch/tutorials/blob/gh-pages/_downloads/e9c8374ecc202120dc94db26bf08a00f/dcgan_faces_tutorial.ipynb",
     "timestamp": 1605535035192
    }
   ]
  },
  "kernelspec": {
   "display_name": "Python 3 (ipykernel)",
   "language": "python",
   "name": "python3"
  },
  "language_info": {
   "codemirror_mode": {
    "name": "ipython",
    "version": 3
   },
   "file_extension": ".py",
   "mimetype": "text/x-python",
   "name": "python",
   "nbconvert_exporter": "python",
   "pygments_lexer": "ipython3",
   "version": "3.7.6"
  }
 },
 "nbformat": 4,
 "nbformat_minor": 4
}
