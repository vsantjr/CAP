{
 "cells": [
  {
   "cell_type": "markdown",
   "metadata": {
    "id": "kb5b-r3C4Krk"
   },
   "source": [
    "# **CAP-417: Estatística Computacional (Computational Statistics)**\n",
    "\n",
    "<img src=\"https://raw.githubusercontent.com/vsantjr/CAP/master/Images/thedice.jpg\" alt=\"Drawing\" width=\"350\"/>\n",
    "\n",
    "<br>\n",
    "\n",
    "# ***Continuous Random Variables and Probability Distributions***\n",
    "-----\n",
    "\n",
    "This notebook was developed by Prof. <a href=\"https://www.linkedin.com/in/valdivino-alexandre-de-santiago-j%C3%BAnior-103109206/?locale=en_US\">Valdivino Alexandre de Santiago Júnior</a> for the Computational Statistics CAP course at INPE.</a>\n",
    "\n",
    "<br>\n",
    "\n",
    "Most of this material was based on: R. E. Walpole, R. H. Myers, S. L. Myers, K. E. Ye. <a href=\"https://www.pearson.com/us/higher-education/product/Walpole-Probability-and-Statistics-for-Engineers-and-Scientists-9th-Edition/9780321629111.html\">Probability and Statistics for Engineers and Scientists, 9th Edition</a>. Pearson, 2012.\n",
    "\n",
    "<br>\n",
    "\n",
    "**Licence**: GNU GENERAL PUBLIC LICENSE, Version 3 (GPLv3)\n",
    "\n"
   ]
  },
  {
   "cell_type": "markdown",
   "metadata": {
    "id": "wnTeLfOBe8rj"
   },
   "source": [
    "## Random Variable: Remembering\n",
    "----\n",
    "\n",
    "A **random variable** is a function that reflects the result of a random experiment. It associates a real number with each element $s \\in S$.\n",
    "\n",
    "<br>\n",
    "\n",
    "For instance, the result of the experiment \"toss a single die\" can be described by a random variable $X \\Rightarrow X = \\{1, 2, 3, 4, 5, 6\\}$. \n",
    "\n",
    "<br>\n",
    "\n",
    "Another example: two balls are drawn in succession without replacement from an urn containing 4 red balls and 3 black balls. Hence, the number of red balls is a random variable $X \\Rightarrow X = \\{0, 1, 2\\}$.\n",
    "\n",
    "<br>\n",
    "\n",
    "A random variable is described by the possible values that it can assume ($x$) and by the probabilities for each of these values ($f(x)$).\n",
    "\n",
    "\n"
   ]
  },
  {
   "cell_type": "markdown",
   "metadata": {
    "id": "OMQzxPJlWETD"
   },
   "source": [
    "##Continuous Random Variable \n",
    "----\n",
    "\n",
    "A **continuous random variable** can assume all values in the interval $[a, b]$, where $-\\infty \\leq a < b \\leq +\\infty$. \n",
    "\n",
    "\n",
    "<br>\n",
    "\n",
    "For instance, consider the waiting time, in hours, between successive speeders spotted by a radar unit. The random variable $X$ takes on all values $x$ for which $x \\geq 0$ is a continuous random variable.\n",
    "\n",
    "<br>\n",
    "\n",
    "Let us consider a random variable $X$ that represents the height of the human beings. This is another example of a continuous random variable.\n",
    "\n",
    "\n",
    "\n"
   ]
  },
  {
   "cell_type": "markdown",
   "metadata": {
    "id": "KycNjZ9spmwb"
   },
   "source": [
    "## Continuous Probability Distributions\n",
    "----\n",
    "\n",
    "Note that a continuous random variable $X$ has a probability of 0 of assuming **exactly** any of its values. Let $X$ be a continuous random variable representing the heights of all people over 21 years of age. Hence:\n",
    "\n",
    "\n",
    "1.   Between any two values, say 163.5 and 164.5 cm, there are infinite number of heights, one of which is 164 cm;\n",
    "2.   The probability of selecting a person at random who is exactly 164 cm tall and not one of the infinitely large set of heights so close to 164 cm is remote. It is then assigned a probability of 0 to the event;\n",
    "3.   It is not the case to wonder about the probability of selecting a person who is at least 163 cm but not more than 165 cm tall. We think here in terms of interval rather than a point value of $X$.\n",
    "\n",
    "<br>\n",
    "\n",
    "The probability distribution of a continuous random variable cannot be presented in tabular form. But, it can be stated as a formula. \n",
    "\n",
    "<br>\n",
    "\n",
    "Below, it is the definition of a **probability density function** (**pdf**), also known as **density function**, related to continuous random variables.\n",
    "\n",
    "<br>\n",
    "\n",
    "<img src=\"https://raw.githubusercontent.com/vsantjr/CAP/master/Images/pdfcont.png\" alt=\"Drawing\" width=\"600\"/>\n",
    "\n",
    "<br>\n",
    "\n",
    "Note below that the probability that the continuous random variable $X$ assumes a value between $a$ and $b$ is equal to the shaded **area** under the pdf between the ordinates at $x = a$ and $x = b$.\n",
    "\n",
    "<br>\n",
    "\n",
    "<img src=\"https://raw.githubusercontent.com/vsantjr/CAP/master/Images/pdfarea.png\" alt=\"Drawing\" width=\"600\"/>\n",
    "\n",
    "\n"
   ]
  },
  {
   "cell_type": "markdown",
   "metadata": {
    "id": "JokAg6Oy_zFG"
   },
   "source": [
    "## Cumulative Distribution Function\n",
    "----\n",
    "\n",
    "The **cumulative distribution function** (cdf) of a continuous random variable is defined below.\n",
    "\n",
    "<br>\n",
    "\n",
    "<img src=\"https://raw.githubusercontent.com/vsantjr/CAP/master/Images/cdfcont.png\" alt=\"Drawing\" width=\"600\"/>\n",
    "\n",
    "\n",
    "<br>\n",
    "\n",
    "Ex: Let $X$ be a continuous random variable which has the pdf $f(x)  =  3 $ on  $[0, 1/3]$. Calculate:\n",
    "\n",
    "1.  $ P (0.1  \\leq  X \\leq  0.2) $; \n",
    "\n",
    "2. Find the cdf.\n",
    "\n",
    "\n",
    "R. Item 1\n",
    "\n",
    " $ P (0.1  \\leq  X \\leq  0.2) = \\int_{0.1}^{0.2} 3 \\,dx = 3 \\times 0.2 - 3 \\times 0.1 = 0.3 $ \n",
    "\n",
    "Item 2\n",
    "\n",
    "If $v \\in [0,1/3] \\Rightarrow F(v)= \\int_{0}^{v} 3 \\,dx = 3v$.\n",
    "\n",
    "Note that $f(x) = 0$ outside of $[0, 1/3]$. Hence, $F(v) = P(X \\leq v) = 0$ for $v < 0$ and $F(v) = 1$ for $v >1/3$. \n",
    "\n",
    "Thus:\n",
    "\n",
    "$$\n",
    " F(v) =\n",
    "  \\begin{cases}\n",
    "    0,  & \\quad \\text{if } v < 0\\\\\n",
    "    3v,  & \\quad \\text{if } 0 \\leq v \\leq 1/3 \\\\\n",
    "    1,  & \\quad \\text{if } v > 1/3.\n",
    "  \\end{cases}\n",
    "$$\n",
    "\n",
    "\n"
   ]
  },
  {
   "cell_type": "code",
   "execution_count": null,
   "metadata": {
    "colab": {
     "base_uri": "https://localhost:8080/"
    },
    "executionInfo": {
     "elapsed": 403,
     "status": "ok",
     "timestamp": 1644595358374,
     "user": {
      "displayName": "Valdivino Santiago",
      "photoUrl": "https://lh3.googleusercontent.com/a/default-user=s64",
      "userId": "09844046845975035783"
     },
     "user_tz": 180
    },
    "id": "mpPdasvwWES4",
    "outputId": "7d8ddc50-ce38-4e81-bc5e-86d51f84671d"
   },
   "outputs": [
    {
     "name": "stdout",
     "output_type": "stream",
     "text": [
      "Value of the integral: 0.30000000000000004 - Upper bound on the error: 3.33066907387547e-15\n"
     ]
    }
   ],
   "source": [
    "from scipy.integrate import quad\n",
    "\n",
    "def integrand(x, f):\n",
    "    return f # Change to f*x\n",
    "\n",
    "fn = 3\n",
    "prob = quad(integrand, 0.1, 0.2, args=(fn))\n",
    "\n",
    "print('Value of the integral: {} - Upper bound on the error: {}'.format(prob[0],prob[1]))\n"
   ]
  },
  {
   "cell_type": "code",
   "execution_count": null,
   "metadata": {
    "colab": {
     "base_uri": "https://localhost:8080/",
     "height": 573
    },
    "executionInfo": {
     "elapsed": 442,
     "status": "ok",
     "timestamp": 1644595358811,
     "user": {
      "displayName": "Valdivino Santiago",
      "photoUrl": "https://lh3.googleusercontent.com/a/default-user=s64",
      "userId": "09844046845975035783"
     },
     "user_tz": 180
    },
    "id": "N3cd66QuSXhD",
    "outputId": "d053175c-b2c4-4bfa-8b0a-331458a7778e"
   },
   "outputs": [
    {
     "data": {
      "image/png": "[encoded data removed]",
      "text/plain": [
       "<Figure size 432x288 with 1 Axes>"
      ]
     },
     "metadata": {
      "needs_background": "light"
     },
     "output_type": "display_data"
    },
    {
     "data": {
      "image/png": "[encoded data removed]",
      "text/plain": [
       "<Figure size 432x288 with 1 Axes>"
      ]
     },
     "metadata": {
      "needs_background": "light"
     },
     "output_type": "display_data"
    }
   ],
   "source": [
    "import matplotlib.pyplot as plt\n",
    "import numpy as np\n",
    "\n",
    "x = np.arange(-1, 1, 0.01)\n",
    "f_x = [] # pdf\n",
    "F_x = [] # cdf\n",
    "for i in x:\n",
    "  if i < 0:\n",
    "    f_x.append(0)\n",
    "    F_x.append(0)\n",
    "  elif (i >=0) and (i<=1/3):\n",
    "    f_x.append(3)\n",
    "    F_x.append(3*i) \n",
    "  elif i > 1/3:\n",
    "    f_x.append(0)\n",
    "    F_x.append(1)   \n",
    "\n",
    "plt.plot(x, f_x, 'r')\n",
    "plt.title('pdf')\n",
    "plt.xlabel('x')\n",
    "plt.ylabel('f(x)')\n",
    "plt.grid()\n",
    "plt.show()\n",
    "\n",
    "plt.plot(x, F_x, 'r')\n",
    "plt.title('cdf')\n",
    "plt.xlabel('x')\n",
    "plt.ylabel('F(x)')\n",
    "plt.grid()\n",
    "plt.show()"
   ]
  },
  {
   "cell_type": "markdown",
   "metadata": {
    "id": "l2SLBUdWuD99"
   },
   "source": [
    "## Continuous Uniform Distribution\n",
    "----\n",
    "\n",
    "This is the continuous conterpart of the discrete uniform distribution. Hence, the **continuous uniform distribution** is characterized by a pdf that is \"flat\", and thus the probability is uniform in a closed interval, say $[A, B]$. Note that the previous example is precisely a case of a continuous uniform distribution.\n",
    "\n",
    "Below we define the pdf of a continuous uniform random variable.\n",
    "\n",
    "<br>\n",
    "\n",
    "<img src=\"https://raw.githubusercontent.com/vsantjr/CAP/master/Images/unicont.png\" alt=\"Drawing\" width=\"600\"/>\n",
    "\n",
    "<br>\n",
    "\n",
    "<img src=\"https://raw.githubusercontent.com/vsantjr/CAP/master/Images/unicontpdfcdf.png\" alt=\"Drawing\" width=\"600\"/>\n",
    "\n",
    "<br>\n",
    "Source: <a href=\"https://distribution-explorer.github.io/continuous/uniform.html?highlight=continuous%20uniform\">Distribution Explorer</a>\n",
    "\n",
    "<br>\n",
    "<br>\n",
    "\n",
    "Note that the continuous uniform distribution is not defined on an infinite or semi-infinite domain, so finite lower ($A$) and upper ($B$) bounds are necessary parameters.\n",
    "\n",
    "<br>\n",
    "\n",
    "<img src=\"https://raw.githubusercontent.com/vsantjr/CAP/master/Images/unicontmeanvar.png\" alt=\"Drawing\" width=\"600\"/>\n",
    "\n",
    "<br>\n",
    "<br>\n",
    "\n",
    "\n",
    "Question: How to calculate the mean (expected value) and variance of a continuous random variable?\n",
    "\n",
    "<br>\n",
    "\n",
    "One application of the continuous uniform distribution is in the generation of real random numbers.\n",
    "\n",
    "\n",
    "Ex: Let us assume that an event (show) can last from 1 to 6 hours so that each fraction of hour has equal chance to be the length of the event. If $X$ is a continuous random variable representing the length (duration) of the event in hours, what is the probability that an event lasts at least 2 hours?\n",
    "\n",
    "R: $[A, B] = [1, 6]$. Thus, the pdf is:\n",
    "\n",
    "$$\n",
    " f(x;1,6) =\n",
    "  \\begin{cases}\n",
    "    1/5,  & \\quad \\text{if } 1 \\leq v \\leq 6\\\\\n",
    "    0,  & \\quad \\text{elsewhere}.  \n",
    "  \\end{cases}\n",
    "$$\n",
    "\n",
    "Thus,\n",
    "$$\n",
    "P(X >= 2) = \\int_{2}^{6} 1/5 \\,dx = 1/5 \\times (6 - 2) = 0.8.\n",
    "$$\n",
    "\n",
    "\n",
    "\n"
   ]
  },
  {
   "cell_type": "code",
   "execution_count": null,
   "metadata": {
    "colab": {
     "base_uri": "https://localhost:8080/",
     "height": 312
    },
    "executionInfo": {
     "elapsed": 9,
     "status": "ok",
     "timestamp": 1644595358812,
     "user": {
      "displayName": "Valdivino Santiago",
      "photoUrl": "https://lh3.googleusercontent.com/a/default-user=s64",
      "userId": "09844046845975035783"
     },
     "user_tz": 180
    },
    "id": "xSxre1T3iDHt",
    "outputId": "6d8b7f6b-bc2f-4b86-f190-3f092f7aa3d3"
   },
   "outputs": [
    {
     "name": "stdout",
     "output_type": "stream",
     "text": [
      "Value of the integral: 0.8000000000000002 - Upper bound on the error: 8.881784197001254e-15\n"
     ]
    },
    {
     "data": {
      "image/png": "[encoded data removed]",
      "text/plain": [
       "<Figure size 432x288 with 1 Axes>"
      ]
     },
     "metadata": {
      "needs_background": "light"
     },
     "output_type": "display_data"
    }
   ],
   "source": [
    "fn = 1/5\n",
    "prob = quad(integrand, 2, 6, args=(fn))\n",
    "print('Value of the integral: {} - Upper bound on the error: {}'.format(prob[0],prob[1]))\n",
    "\n",
    "x = np.arange(0, 7, 0.01)\n",
    "f_x = []\n",
    "for i in x:\n",
    "  if (i>=1) and (i<=6):\n",
    "    f_x.append(1/5)\n",
    "  else:  \n",
    "    f_x.append(0)\n",
    "\n",
    "plt.plot(x, f_x, 'r')\n",
    "plt.title('pdf')\n",
    "plt.xlabel('x')\n",
    "plt.ylabel('f(x)')\n",
    "plt.grid()\n",
    "plt.show()"
   ]
  },
  {
   "cell_type": "markdown",
   "metadata": {
    "id": "W2gbODkyq_Ax"
   },
   "source": [
    "## Gamma Distribution\n",
    "----\n",
    "\n",
    "The **gamma and exponential distributions** are two important continuous probability distributions playing an important role in both queuing theory and reliability problems. Note that the exponential distribution is a special case of the gamma one. We start by first addressing the gamma distribution.\n",
    "\n",
    "<br>\n",
    "\n",
    "The gamma function is important in several fields of mathematics and the **gamma distribution** derives its names due to this function.\n",
    "\n",
    "<br>\n",
    "\n",
    "<img src=\"https://raw.githubusercontent.com/vsantjr/CAP/master/Images/gammafunction.png\" alt=\"Drawing\" width=\"600\"/>\n",
    "\n",
    "<br>\n",
    "\n",
    "The gamma function has some properties where one is: $\\Gamma(1) = 1$. \n"
   ]
  },
  {
   "cell_type": "code",
   "execution_count": null,
   "metadata": {
    "colab": {
     "base_uri": "https://localhost:8080/"
    },
    "executionInfo": {
     "elapsed": 7,
     "status": "ok",
     "timestamp": 1644595358812,
     "user": {
      "displayName": "Valdivino Santiago",
      "photoUrl": "https://lh3.googleusercontent.com/a/default-user=s64",
      "userId": "09844046845975035783"
     },
     "user_tz": 180
    },
    "id": "R1TDJdu2q800",
    "outputId": "c5163ccd-d579-40c8-dacb-afcab9cafc46"
   },
   "outputs": [
    {
     "name": "stdout",
     "output_type": "stream",
     "text": [
      "Value of the integral: 1.0000000000000002 - Upper bound on the error: 5.842606742906004e-11\n"
     ]
    }
   ],
   "source": [
    "import math\n",
    "\n",
    "def integrand2(x, f):\n",
    "    return  math.exp(-x)\n",
    "\n",
    "fn2 = 0\n",
    "prob2 = quad(integrand2, 0, math.inf, args=(fn2))\n",
    "\n",
    "print('Value of the integral: {} - Upper bound on the error: {}'.format(prob2[0],prob2[1]))"
   ]
  },
  {
   "cell_type": "markdown",
   "metadata": {
    "id": "pTOasOaPejMk"
   },
   "source": [
    "The definition of the pdf of a random variable which has a gamma distribution is below.\n",
    "\n",
    "<br>\n",
    "\n",
    "<img src=\"https://raw.githubusercontent.com/vsantjr/CAP/master/Images/gammadist.png\" alt=\"Drawing\" width=\"600\"/>\n",
    "\n",
    "<br><br>\n",
    "\n",
    "<img src=\"https://raw.githubusercontent.com/vsantjr/CAP/master/Images/gammaplots.png\" alt=\"Drawing\" width=\"600\"/>\n",
    "\n",
    "<br><br>\n",
    "\n",
    "Mean and variance of the gamma distribution below.\n",
    "\n",
    "<br>\n",
    "\n",
    "<img src=\"https://raw.githubusercontent.com/vsantjr/CAP/master/Images/gammameanvar.png\" alt=\"Drawing\" width=\"600\"/>\n",
    "\n",
    "\n"
   ]
  },
  {
   "cell_type": "markdown",
   "metadata": {
    "id": "6xgdONQkegLy"
   },
   "source": [
    "## Exponential Distribution\n",
    "----\n",
    "\n",
    "The **exponential distribution** is a special case of the gamma one where $\\alpha = 1$. We can define the pdf of a random variable which has a exponential distribution as follows.\n",
    "\n",
    "<br>\n",
    "\n",
    "**Exponential Distribution:** The continuous random variable $X$ has an exponential distribution, with parameter (rate of occurence of events) $\\lambda = 1/\\beta$, if its pdf is given by:\n",
    "\n",
    "$$\n",
    "f(x;\\lambda) =\n",
    "  \\begin{cases}\n",
    "     \\lambda e^{-\\lambda x},      & \\quad \\text{if} \\quad x \\geq 0 \\\\\n",
    "    0, & \\quad  \\text{otherwise} \n",
    "  \\end{cases}\n",
    "$$\n",
    "\n",
    "where $\\lambda >0$.\n",
    "\n",
    "<br>\n",
    "\n",
    "The cdf is:\n",
    "\n",
    "$$\n",
    "F(x;\\lambda) =\n",
    "  \\begin{cases}\n",
    "    1 - e^{-\\lambda x},      & \\quad \\text{if} \\quad x \\geq 0 \\\\\n",
    "    0, & \\quad  \\text{otherwise}. \n",
    "  \\end{cases}\n",
    "$$  \n",
    "\n",
    "\n",
    "<br>\n",
    "\n",
    "<img src=\"https://raw.githubusercontent.com/vsantjr/CAP/master/Images/exppdfcdf.png\" alt=\"Drawing\" width=\"600\"/>\n",
    "\n",
    "Source: <a href=\"https://distribution-explorer.github.io/continuous/exponential.html?highlight=exponential\">Distribution Explorer</a>\n",
    "\n",
    "\n",
    "<br>\n",
    "<br>\n",
    "\n",
    "\n",
    "Mean and variance of the exponential distribution below.\n",
    "\n",
    "$$\n",
    "\\mu = 1/\\lambda \\quad \\text{and} \\quad \\sigma^2 = 1/\\lambda^2.\n",
    "$$\n",
    "\n",
    "<br> \n",
    "\n",
    "The exponential distribution is commonly used to measure the expected time for an event to occur. Hence, the time between arrivals at service facilities and the time to failure of computing systems/devices are often modelled by the exponential distribution.\n",
    "\n",
    "\n",
    " \n",
    "\n",
    "\n",
    "\n",
    "\n"
   ]
  },
  {
   "cell_type": "markdown",
   "metadata": {
    "id": "X_j4za_QFasC"
   },
   "source": [
    "## Relationship between the Exponential Distribution and the Poisson Process\n",
    "----\n",
    "\n",
    "There is a relationship between the exponential distribution and the Poisson process, where the latter we have already described. The most important applications of the exponential distribution are situations where the Poisson process applies. Recall that the Poisson process allows for the use of the discrete probability distribution known as the Poisson distribution. Recalling again that the Poisson distribution is used to compute the probability of specific numbers of \"events\" during a particular **period of time or span of space**. \n",
    "\n",
    "<br>\n",
    "\n",
    "In order to understand the relationship between the exponential distribution and the Poisson process, let us consider that, in a Poisson process, if events occur on average at the rate $\\lambda$ per unit of time, then there will\n",
    "be on average $\\lambda t$ occurrences per $t$ units of time. The Poisson distribution describing this process is therefore:\n",
    "\n",
    "$$\n",
    " p(x;\\lambda t)= \\frac{e^{-\\lambda t}(\\lambda t)^x}{x!},\n",
    "$$ \n",
    "\n",
    "from which $P (X = 0) = p(0;\\lambda t) = e^{-\\lambda t}$ is the probability of no occurrences (no events happened) within $t$ units of time.\n",
    "\n",
    "<br>\n",
    "\n",
    "We can also interpret $P (X = 0) = e^{-\\lambda t}$ as being the probability that the time, $T$, to the first occurrence is greater than $t$:\n",
    "\n",
    "$$\n",
    "P (T > t) = P (X = 0 \\quad | \\quad \\mu = \\lambda t) = e^{−\\lambda t}.\n",
    "$$\n",
    "\n",
    "<br>\n",
    "\n",
    "On the other hand, the probability that an event does indeed occur during $t$ units of time is given by:\n",
    "\n",
    "$$\n",
    "P (T ≤ t) = 1 − P (X = 0 \\quad | \\quad \\mu = \\lambda t) = 1 − e^{−\\lambda t}.\n",
    "$$\n",
    "\n",
    "<br>\n",
    "\n",
    "However, just above is the cdf of the exponential distribution which, when differentiated with respect to $t$, produces the pdf of the exponential distribution, i.e. $f(t) = \\lambda e^{−\\lambda t}$.\n"
   ]
  },
  {
   "cell_type": "markdown",
   "metadata": {
    "id": "py4u7akQQg_U"
   },
   "source": [
    "## Relationship between the Exponential Distribution and Markov Chains (Continuous)\n",
    "----\n",
    "\n",
    "Markov chains provide very flexible, powerful, and efficient means for the\n",
    "description and analysis of dynamic system properties. Performance and dependability measures can be easily derived. It is a powerful technique which has long been studied by academia and used in practice.\n",
    "\n",
    "<br>\n",
    "\n",
    "Markov chains are stochastic processes where the next state of the system depends only on the present state, not on preceeding states (**memoryless**). Here, we just recall property 1 of the Poisson process:\n",
    "\n",
    "1.  The number of outcomes occurring in one time interval or specified region of\n",
    "space is independent of the number that occur in any other disjoint time interval or region. In this sense we say that the Poisson process has **no memory**.\n",
    "\n",
    "<br>\n",
    "\n",
    "Two known Markov Chains models are:\n",
    "\n",
    "1.  Discrete-Time Markov Chain (DTMC): states are discrete and time is dicrete;\n",
    "2.  Continuous-Time Markov Chain (CTMC): states are discrete and time is continuous.\n",
    "\n",
    "<br>\n",
    "\n",
    "<img src=\"https://raw.githubusercontent.com/vsantjr/CAP/master/Images/dtmcctmc.png\" alt=\"Drawing\" width=\"600\"/>\n",
    "\n",
    "<br>\n",
    "\n",
    "We are interessed here in the CTMC model. CTMCs are distinct from DTMCs because state transitions may occur at arbitrary instants of time and not merely at fixed, discrete time points, as is the case with DTMCs. One definition of CTMC is provided below.\n",
    "\n",
    "<br>\n",
    "\n",
    "**CTMC:** A given stochastic process $\\{X_t : t \\in T\\}$ constitutes a\n",
    "CTMC if for arbitrary $t_i \\in \\mathbb{R}_{0}^{+}$, with $0 = t_0 < t_1 < \\cdots < t_n < t_{n+1}$, $\\forall n \\in \\mathbb{N}$, and $\\forall s_i \\in S = \\mathbb{N}_0$ for the conditional pdf, the following relation holds:\n",
    "\n",
    "<br>\n",
    "\n",
    "\\begin{eqnarray*}\n",
    "P(X_{t_{n+1}} = s_{n+1} \\quad \\vert \\quad  X_{t_{n}} = s_{n}, X_{t_{n-1}} =  s_{n-1}, \\cdots, X_{t_{0}} = s_{0} ) = \\\\ \n",
    "P(X_{t_{n+1}} = s_{n+1} \\quad \\vert \\quad X_{t_{n}} = s_{n} ).\n",
    "\\end{eqnarray*}\n",
    "\n",
    "<br>\n",
    "\n",
    "Thus, a CTMC makes transitions from state to state, independent of the\n",
    "past and according to a DTMC, but once entering a state remains in that state, independent of the past, for an **exponentially distributed** amount of time before changing state again.\n",
    "\n",
    "\n",
    "\n"
   ]
  },
  {
   "cell_type": "markdown",
   "metadata": {
    "id": "xXNdbWHJq6dk"
   },
   "source": [
    "Ex1: Suppose that a system contains a certain type of component whose time, in years, to failure is given by $T$. The random variable $T$ is nicely modelled by the exponential distribution with mean time to failure equals to 5 years. If 5 of these components are installed in different systems, what is the probability that at least 2 are still functioning at the end of 8 years?\n",
    "\n",
    "R: Firstly, we need to calculate the probability that a certain component is still working after 8 years. \n",
    "\n",
    "$T \\Rightarrow$ time to failure (stop operating).\n",
    "\n",
    "$\\lambda = \\frac{1}{5}$ time to failure/year.\n",
    "\n",
    "$P(T>8) = 1 - P(T <= 8) = 1 - 1 + e^{-(8/5)} = 0.20189651799465538$.\n",
    "\n",
    "<br>\n",
    "\n",
    "Now, let $X$ represents the number of components functioning after 8 years. We can rely on a binomial distribution where each trial results in an outcome that may be classified as a success or a failure. Here, we have:\n",
    "\n",
    "$$\n",
    "p = P(T>8) = 0.20189651799465538 \\quad \\text{and} \\quad n = 5.\n",
    "$$\n",
    "\n",
    "Thus:\n",
    "\n",
    "$$\n",
    "P(X \\geq 2) = \\displaystyle\\sum_{x=2}^{5} b(x;n,p) = 1 - \\displaystyle\\sum_{x=0}^{1} b(x;n,p) = 0.2666086073892604.\n",
    "$$\n",
    "\n",
    "\n",
    "\n",
    "\n",
    "\n",
    "\n",
    "\n",
    "<br>\n",
    "\n",
    "\n",
    "Ex2: The number of km that a particular car can run before its battery wears out is exponentially distributed with an average of 15,000 km. If we need to take a 10,000-km trip, what is the probability we can finish our trip without having to replace the car battery? \n",
    "\n",
    "R: $X \\Rightarrow$ length of the trip in km.\n",
    "\n",
    "$\\lambda = \\frac{1}{15000}$ battery duration/km. Hence:\n",
    "\n",
    "$$\n",
    "P (X > 10000) = 1 - P (X <= 10000) = 1 - 1 + e^{-(10000/15000)} = 0.513417119032592\n",
    "$$\n",
    "\n"
   ]
  },
  {
   "cell_type": "code",
   "execution_count": null,
   "metadata": {
    "colab": {
     "base_uri": "https://localhost:8080/"
    },
    "executionInfo": {
     "elapsed": 333,
     "status": "ok",
     "timestamp": 1644595359141,
     "user": {
      "displayName": "Valdivino Santiago",
      "photoUrl": "https://lh3.googleusercontent.com/a/default-user=s64",
      "userId": "09844046845975035783"
     },
     "user_tz": 180
    },
    "id": "zqShECEzjDsO",
    "outputId": "08b6a477-f456-4e1e-c991-e3ceb1e6f0ee"
   },
   "outputs": [
    {
     "name": "stdout",
     "output_type": "stream",
     "text": [
      "P (T > 8):  0.20189651799465538\n",
      "Ex1 --> P(X >= 2):  0.2666086073892604\n",
      "Ex1 --> P(X >= 2):  0.2666086073892606\n",
      "\n",
      "####################\n",
      "\n",
      "Ex2 --> P(X > 10000):  0.513417119032592\n"
     ]
    }
   ],
   "source": [
    "import math\n",
    "from scipy.stats import binom\n",
    "\n",
    "# Ex1\n",
    "lamb = 1/5\n",
    "t = 8\n",
    "pexp = math.exp((-lamb*t)) \n",
    "print('P (T > 8): ', pexp)\n",
    "\n",
    "# Binomial below\n",
    "n = 5\n",
    "# One way\n",
    "x2 = list(range(2,6)) # From 2 to 5\n",
    "f_x2 = [binom.pmf(r, n, pexp) for r in x2] \n",
    "print('Ex1 --> P(X >= 2): ', np.sum(f_x2))\n",
    "\n",
    "# Other way \n",
    "x3 = [0, 1]\n",
    "f_x3 = [binom.pmf(r, n, pexp) for r in x3] \n",
    "print('Ex1 --> P(X >= 2): ', 1 - np.sum(f_x3))\n",
    "print()\n",
    "print('#'*20)\n",
    "\n",
    "# Ex2\n",
    "lamb = 1/15000\n",
    "x = 10000\n",
    "print('\\nEx2 --> P(X > 10000): ', math.exp((-lamb*x)))"
   ]
  },
  {
   "cell_type": "markdown",
   "metadata": {
    "id": "X_aIDKXq7T_M"
   },
   "source": [
    "## Normal or Gaussian Distribution\n",
    "----\n",
    "\n",
    "The **normal distribution** or **Gaussian distribution** is the most important probability distribution not only considering the continuous but also the discrete spectrum. There are so many applications (some are shown <a href=\"https://studiousguy.com/real-life-examples-normal-distribution/\">here</a>) of this distribution such as:\n",
    "\n",
    "1.  determining the height of a population;\n",
    "2.  technical stock market;\n",
    "3.  income distribution in economy;\n",
    "4.  birth weight;\n",
    "5.  sudents' average report;\n",
    "6.  phisical measurements (meteorology, sensors, manufacturing process);\n",
    "7.  sampling distribution (the probability distribution of a given random-sample-based statistic. Important because it provides a major simplification for statistical inference);\n",
    "8.  support for data analysis (parametric data);\n",
    "9.  and many more.\n",
    "\n",
    "<br>\n",
    "\n",
    "A random variable $X$ with a normal distribution is known as a **normal random variable**. Alternatively, such a variable is said to be **normally distributed**. The definition of the pdf of a normal random variable is below.\n",
    "\n",
    "<br>\n",
    "\n",
    "<img src=\"https://raw.githubusercontent.com/vsantjr/CAP/master/Images/normaldist.png\" alt=\"Drawing\" width=\"600\"/>\n",
    "\n",
    "<br>\n",
    "\n",
    "Note that there are two parameters that characterise this pdf: its mean ($\\mu$) and standard deviation ($\\sigma$). Hence, an alternative notation for the pdf of the normal random variable is: $N(\\mu,\\sigma)$.\n",
    "\n",
    "<br>\n",
    "\n",
    "<img src=\"https://raw.githubusercontent.com/vsantjr/CAP/master/Images/normalbell.png\" alt=\"Drawing\" width=\"600\"/>\n",
    "\n",
    "Source: <a href=\"https://distribution-explorer.github.io/continuous/normal.html?highlight=normal\">Distribution Explorer</a>\n",
    "\n",
    "<br>\n",
    "\n",
    "We can cite the following properties of the normal curve:\n",
    "\n",
    "1.  The mode, which is the point on the horizontal axis where the curve is at\n",
    "maximum, occurs at $x = \\mu$;\n",
    "2.  The curve is symmetric about a vertical axis through the mean ($\\mu$);\n",
    "3.  The normal curve approaches the horizontal axis asymptotically as we proceed\n",
    "in either direction away from the mean;\n",
    "4.  The total area under the curve and above the horizontal axis is equal to 1. This is expected because to be a pdf, one of the properties is: $\\int_{-\\infty}^{+\\infty} f(x)\\,\\mathrm{d}x = 1$.\n",
    "\n",
    "<br>\n",
    "\n",
    "The mean and variance of the normal distribution are shown below.\n",
    "\n",
    "<br>\n",
    "\n",
    "<img src=\"https://raw.githubusercontent.com/vsantjr/CAP/master/Images/normalmeanvar.png\" alt=\"Drawing\" width=\"600\"/>\n"
   ]
  },
  {
   "cell_type": "code",
   "execution_count": null,
   "metadata": {
    "colab": {
     "base_uri": "https://localhost:8080/",
     "height": 295
    },
    "executionInfo": {
     "elapsed": 8,
     "status": "ok",
     "timestamp": 1644595359141,
     "user": {
      "displayName": "Valdivino Santiago",
      "photoUrl": "https://lh3.googleusercontent.com/a/default-user=s64",
      "userId": "09844046845975035783"
     },
     "user_tz": 180
    },
    "id": "8jzo0hcwSZx7",
    "outputId": "3f6b2853-fc3a-492c-fce1-f653eec72aab"
   },
   "outputs": [
    {
     "data": {
      "image/png": "[encoded data removed]",
      "text/plain": [
       "<Figure size 432x288 with 1 Axes>"
      ]
     },
     "metadata": {
      "needs_background": "light"
     },
     "output_type": "display_data"
    }
   ],
   "source": [
    "from scipy.stats import norm\n",
    "import matplotlib.pyplot as plt\n",
    "\n",
    "fig, ax = plt.subplots(1, 1)\n",
    "mean = 0\n",
    "std = 1\n",
    "x = np.linspace(mean - 3*(std+1), mean + 3*(std+1), 1000)  \n",
    "ax.set_xlabel('x')\n",
    "ax.set_ylabel('f(x)')\n",
    "ax.set_title('Normal Distributions')\n",
    "ax.plot(x, norm.pdf(x, mean, std), 'r-', lw=3)\n",
    "ax.plot(x, norm.pdf(x, mean+1, std), 'b-', lw=3)\n",
    "ax.plot(x, norm.pdf(x, mean, std+1), 'g-', lw=3)\n",
    "plt.grid()\n",
    "plt.show()"
   ]
  },
  {
   "cell_type": "markdown",
   "metadata": {
    "id": "IH-qxvR7E9Ax"
   },
   "source": [
    "## Standard Normal Distribution and Area Under the Normal Curve\n",
    "----\n",
    "\n",
    "The distribution of a random normal variable with $\\mu = 0$ and $\\sigma = 1$ is called a **standard normal distribution**. Notations are $n(x;0,1)$ or $N(0,1)$. Thus, the red plot above refers to the standard normal distribution.\n",
    "\n",
    "<br>\n",
    "\n",
    "Just as the case of the Poisson distribution, a table is also provided to solve problems \"by hand\", when dealing with the normal distribution. In other words, a table that provides the <a href=\"https://raw.githubusercontent.com/vsantjr/CAP/master/CAP417/Extra/standard normal_table.pdf\">cdf</a> ($P (Z \\leq z)$) or, alternatively, a **standard normal distribution table** that gives values representing the **area** to the left of the $z$ score. \n",
    "\n",
    "<br>\n",
    "\n",
    "<img src=\"https://raw.githubusercontent.com/vsantjr/CAP/master/Images/arealeft.png\" alt=\"Drawing\" width=\"600\"/>\n",
    "\n",
    "<br>\n",
    "\n",
    "But, what is $Z$? $Z$ is a new normal random variable which indeed has a standard normal distribution ($N(0,1)$). The whole point is that there is no sense to construct a table for every pair of mean and standard deviation! We have infinite tables to build. Then, we transform any normal random variable, $X$, into a standard normal random variable, $Z$, and thus we just need to have a unique standard normal distribution table to solve the problems. Such a transformation is done as shown below:\n",
    "\n",
    "$$\n",
    "Z = \\frac{X - \\mu}{\\sigma}.\n",
    "$$\n",
    "\n",
    "<br>\n",
    "\n",
    "Ex: Let $X$ be a random normal variable with $\\mu = 50$ and $\\sigma = 10$. What is the probability that $X$ assumes a number between 45 and 62?\n",
    "\n",
    "R: We want $P(45 < X < 62) = P(\\frac{45 - 50}{10} < Z < \\frac{62 - 50}{10}) = P (-0.5 < Z < 1.2)$.\n",
    "\n",
    "But, $P (-0.5 < Z < 1.2) = P(Z < 1.2) - P(Z < -0.5) = 0.88493 - 0.30854 = 0.57639 $.\n",
    "\n",
    "\n",
    "\n",
    "\n"
   ]
  },
  {
   "cell_type": "code",
   "execution_count": null,
   "metadata": {
    "colab": {
     "base_uri": "https://localhost:8080/"
    },
    "executionInfo": {
     "elapsed": 8,
     "status": "ok",
     "timestamp": 1644595359142,
     "user": {
      "displayName": "Valdivino Santiago",
      "photoUrl": "https://lh3.googleusercontent.com/a/default-user=s64",
      "userId": "09844046845975035783"
     },
     "user_tz": 180
    },
    "id": "XWMfawf8_FMb",
    "outputId": "497516b6-3ada-476f-a223-d9d995fa1205"
   },
   "outputs": [
    {
     "name": "stdout",
     "output_type": "stream",
     "text": [
      "X(nonstandard) --> cdf_x1=0.3085375387259869 / cdf_x2=0.8849303297782918 - Res:  0.5763927910523049\n",
      "\n",
      "##########\n",
      "\n",
      "Z(standard) --> cdf_z1=0.3085375387259869 / cdf_z2=0.8849303297782918 - Res:  0.5763927910523049\n"
     ]
    }
   ],
   "source": [
    "x1, x2 = 45, 62\n",
    "mean1, std1 = 50, 10\n",
    "\n",
    "cdf_x1 = norm.cdf(x1,mean1,std1)\n",
    "cdf_x2 = norm.cdf(x2,mean1,std1)\n",
    "print('X(nonstandard) --> cdf_x1={} / cdf_x2={} - Res:  {}'.format(cdf_x1,cdf_x2,(cdf_x2 - cdf_x1)))\n",
    "\n",
    "z1 = (x1 - mean1)/std1\n",
    "z2 = (x2 - mean1)/std1\n",
    "\n",
    "print('\\n##########\\n')\n",
    "\n",
    "cdf_z1 = norm.cdf(z1,0,1)\n",
    "cdf_z2 = norm.cdf(z2,0,1)\n",
    "print('Z(standard) --> cdf_z1={} / cdf_z2={} - Res:  {}'.format(cdf_z1,cdf_z2,(cdf_z2 - cdf_z1)))\n"
   ]
  },
  {
   "cell_type": "markdown",
   "metadata": {
    "id": "F7KbZjoaCw2i"
   },
   "source": [
    "## The Central Limit Theorem\n",
    "----\n",
    "\n",
    "As mentioned in <a href=\"https://www.statisticshowto.com/probability-and-statistics/normal-distributions/central-limit-theorem-definition-examples/\">Statistics How To</a>, \"the Central Limit Theorem states that the sampling distribution of the **sample means** approaches a **normal distribution** as the sample size gets larger — no matter what the shape of the population distribution. This fact holds especially true for sample sizes over 30\".\n",
    "\n",
    "<br>\n",
    "\n",
    "In other words, this theorem states that if you randomly draw a sample of a population of cats, let us say that this sample has 1,000 cats, this sample itself might not be normally distributed. But if you now repeat the experiment say 100 times, then the 100 means of those 100 samples (each sample has a size equals to 1,000 cats) will approach a normal distribution.\n",
    "\n",
    "<br>\n",
    "\n",
    "The theorem is very important in probability theory because it means that probabilistic and statistical methods that work for normal distributions can be applicable to many problems which are characterised by other types of distributions. This is another fact that just reinforces the relevance of the normal distribution.\n",
    "\n",
    "\n",
    "\n"
   ]
  },
  {
   "cell_type": "markdown",
   "metadata": {
    "id": "b_l4quQOKPRC"
   },
   "source": [
    "Ex: Let us assume that a customer orders an average $170 when buying from a store. We will create exponential distributions with this average. And see how the samples means aproach a normal distribution when we repeat the experiment.\n",
    "\n",
    "<br>\n",
    "\n",
    "**Important:** This example was presented by <a href=\"https://towardsdatascience.com/central-limit-theorem-explained-with-python-code-230884d40ce0\">Sujeewa Kumaratunga</a> in a post published in Towards Data Science. The code presented below is literally the same as presented in the post. "
   ]
  },
  {
   "cell_type": "code",
   "execution_count": null,
   "metadata": {
    "colab": {
     "base_uri": "https://localhost:8080/",
     "height": 548
    },
    "executionInfo": {
     "elapsed": 19714,
     "status": "ok",
     "timestamp": 1644595378851,
     "user": {
      "displayName": "Valdivino Santiago",
      "photoUrl": "https://lh3.googleusercontent.com/a/default-user=s64",
      "userId": "09844046845975035783"
     },
     "user_tz": 180
    },
    "id": "9UpBzO8gJdSs",
    "outputId": "64a96971-d0c1-4de2-9cab-9d7977aae516"
   },
   "outputs": [
    {
     "name": "stdout",
     "output_type": "stream",
     "text": [
      "Mean of the samples is 170.03\n",
      "Standard deviation of the samples is 5.93\n"
     ]
    },
    {
     "data": {
      "image/png": "[encoded data removed]",
      "text/plain": [
       "<Figure size 576x576 with 1 Axes>"
      ]
     },
     "metadata": {
      "needs_background": "light"
     },
     "output_type": "display_data"
    }
   ],
   "source": [
    "import numpy as np\n",
    "import matplotlib.pyplot as plt\n",
    "\n",
    "def repeat_sample_draws_exponential(n, samp_size, mu, show_all=False):\n",
    "    means = []\n",
    "\n",
    "    samples = []\n",
    "    '''\n",
    "    Draw n = 100 samples (trials) of samp_size = 1000 customers.\n",
    "    We will obtain 100 exponential distributions with mean mu and samp_size.                \n",
    "    '''\n",
    "    for ii in range(0, n):  \n",
    "        samples.append(np.random.exponential(mu, samp_size))\n",
    "        means.append(np.mean(samples[ii]))\n",
    "\n",
    "    if show_all:\n",
    "        pltdim = np.math.ceil(np.math.sqrt(n))\n",
    "        fig, axs = plt.subplots(pltdim, pltdim, figsize=(8, 8), gridspec_kw={'hspace': 0.2}, sharex=True, sharey=True)\n",
    "        fig.suptitle('Individual Samples\\' Order Value Distribution')\n",
    "        fig.text(0.5, 0.04, 'Order Values ($)', ha='center')\n",
    "        fig.text(0.04, 0.5, 'Number of Customers', ha='center', rotation='vertical')\n",
    "        axs = axs.flatten()\n",
    "        for ii in range(0, n):\n",
    "\n",
    "            plt.sca(axs[ii])\n",
    "\n",
    "            plt.gca().hist(samples[ii], bins=int(50), histtype='step',\n",
    "                           label='$mean = {0:.2f}$'.format(np.mean(samples[ii])), range=[0, 2 * mu])\n",
    "            if n < 10:\n",
    "                plt.gca().set_title('Sample #{0} : average={1:.2f}'.format(ii, np.mean(samples[ii])))\n",
    "            for item in ([axs[ii].title, axs[ii].xaxis.label, axs[ii].yaxis.label] +\n",
    "                             axs[ii].get_xticklabels() + axs[ii].get_yticklabels()):\n",
    "                item.set_fontsize(8)\n",
    "\n",
    "        plt.savefig('expdist_{0}_mu_{1}_sample_{2}_sampsize'.format(mu, n, samp_size))\n",
    "\n",
    "    plt.clf()\n",
    "    plt.hist(means, bins=int(10), histtype='step')\n",
    "    plt.title('Overall Average of {} Samples\\' Average Order Value'.format(n))\n",
    "    plt.xlabel('Average of Individual Sample\\'s Order Value ($)')\n",
    "    plt.savefig('average_of_expdist_{0}_mu_{1}_sample_{2}_sampsize'.format(mu, n, samp_size))\n",
    "    print('Mean of the samples is {0:.2f}'.format(np.mean(means)))\n",
    "    print('Standard deviation of the samples is {0:.2f}'.format(np.std(means)))\n",
    "\n",
    "n_trials = 100\n",
    "n_customers = 1000\n",
    "order_avg = 170\n",
    "repeat_sample_draws_exponential(n_trials, n_customers, order_avg, True)\n"
   ]
  },
  {
   "cell_type": "markdown",
   "metadata": {
    "id": "ho5JNncTdeJh"
   },
   "source": [
    "Ex1: The heights of a sample of trees are normally distributed with mean ($\\mu$) and standard deviation ($\\sigma$) 50 cm. Given that 22.36\\% of the trees are shorter than 150 cm, determine $\\mu$.\n",
    "\n",
    "R: $P (X < 150) = P (Z < \\frac{X - \\mu}{\\sigma}) = P (Z < \\frac{150 - \\mu}{50}) = 0.2236$. Looking at the the standard normal table we find that $z = -0.76$ gives an area equals to 0.2236. Thus:\n",
    "\n",
    "$$\n",
    "-0.76 = \\frac{150 - \\mu}{50} \\Rightarrow \\mu = 188 cm.\n",
    "$$\n",
    "\n",
    "<br>\n",
    "\n",
    "Ex2: Let us assume that the Brazilian men population is normally distributed with mean equals to 175 cm and standard deviation of 4 cm. What is the probability of a Brazilian man is taller than 185 cm?\n",
    "\n",
    "R: $P (X > 185) = 1 - P(X < 185) = 1 - P (Z < \\frac{185 - 175}{4}) = 1 - P(Z < 2.5)$. The standard normal table says that $P (Z < 2.5) = 0.99379 $. Thus:\n",
    "\n",
    "$$\n",
    "P (X > 185) = 1 - 0.99379  = 0.0062100000\n",
    "$$"
   ]
  },
  {
   "cell_type": "code",
   "execution_count": null,
   "metadata": {
    "colab": {
     "base_uri": "https://localhost:8080/"
    },
    "executionInfo": {
     "elapsed": 20,
     "status": "ok",
     "timestamp": 1644595378852,
     "user": {
      "displayName": "Valdivino Santiago",
      "photoUrl": "https://lh3.googleusercontent.com/a/default-user=s64",
      "userId": "09844046845975035783"
     },
     "user_tz": 180
    },
    "id": "9NSVKRllQfvm",
    "outputId": "a9ab4793-2fb8-48ac-c740-673882abe36b"
   },
   "outputs": [
    {
     "name": "stdout",
     "output_type": "stream",
     "text": [
      "Response X = 0.006209665325776159 and Z = 0.006209665325776159\n"
     ]
    }
   ],
   "source": [
    "#Ex2\n",
    "mean = 175\n",
    "std = 4\n",
    "x = 185\n",
    "cdf_x = norm.cdf(x,mean,std)\n",
    "z = (x - mean)/std\n",
    "cdf_z = norm.cdf(z,0,1)\n",
    "\n",
    "print('Response X = {} and Z = {}'.format(1 - cdf_x, 1 - cdf_z))"
   ]
  }
 ],
 "metadata": {
  "colab": {
   "collapsed_sections": [],
   "name": "CAP-417_Estatistica Computacional_Prof Valdivino_A03.ipynb",
   "provenance": [
    {
     "file_id": "https://github.com/pytorch/tutorials/blob/gh-pages/_downloads/e9c8374ecc202120dc94db26bf08a00f/dcgan_faces_tutorial.ipynb",
     "timestamp": 1605535035192
    }
   ]
  },
  "kernelspec": {
   "display_name": "Python 3 (ipykernel)",
   "language": "python",
   "name": "python3"
  },
  "language_info": {
   "codemirror_mode": {
    "name": "ipython",
    "version": 3
   },
   "file_extension": ".py",
   "mimetype": "text/x-python",
   "name": "python",
   "nbconvert_exporter": "python",
   "pygments_lexer": "ipython3",
   "version": "3.7.6"
  }
 },
 "nbformat": 4,
 "nbformat_minor": 4
}
